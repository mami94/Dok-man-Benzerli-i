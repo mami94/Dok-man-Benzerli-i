{
 "cells": [
  {
   "cell_type": "markdown",
   "id": "dfe9377d",
   "metadata": {},
   "source": [
    "## <span style='background :yellow' > Doğal Dil İşleme (22-23B) </span> \n",
    "Mohammed Seman Adem \n",
    "### <span style='color:Blue'> Ödev4: Döküman Benzerliği Bulma  </span>"
   ]
  },
  {
   "cell_type": "code",
   "execution_count": null,
   "id": "9963d2e6",
   "metadata": {},
   "outputs": [],
   "source": [
    "from sklearn.feature_extraction.text import CountVectorizer\n",
    "from sklearn.metrics.pairwise import cosine_similarity\n",
    "from nltk import word_tokenize\n",
    "from docx import Document"
   ]
  },
  {
   "cell_type": "code",
   "execution_count": 18,
   "id": "422e8c2d",
   "metadata": {},
   "outputs": [],
   "source": [
    "# Adım 1: İlk word dökümanını yükleyelim\n",
    "doc1 = Document('dosyaismi.docx')\n",
    "doc1_text = ' '.join([paragraph.text for paragraph in doc1.paragraphs])\n",
    "# Adım 2: İkinci word dökümanını yükleyelim\n",
    "doc2 = Document('dosyaismi.docx')\n",
    "doc2_text = ' '.join([paragraph.text for paragraph in doc2.paragraphs])"
   ]
  },
  {
   "cell_type": "code",
   "execution_count": 19,
   "id": "4c385e66",
   "metadata": {},
   "outputs": [],
   "source": [
    "# Adım 3: Benzerlik algoritması seçelim\n",
    "similarity_measure = \"cosine\" \n",
    "\n",
    "# 3.1 Belge metinlerini vektör haline getirmek için CountVectorizer kullanalım\n",
    "vectorizer = CountVectorizer(tokenizer=word_tokenize, stop_words=\"english\")\n",
    "\n",
    "# 3.2 Dökümanları vektörlere dönüştürelim\n",
    "vectorized_docs = vectorizer.fit_transform([doc1_text, doc2_text])"
   ]
  },
  {
   "cell_type": "markdown",
   "id": "f9993e54",
   "metadata": {},
   "source": [
    "<span style='background :pink' > Benzerlik algoritması seçerken</span> \n",
    "<span >similarity_measure, \"jaccard\" veya \"cosine\" olarak seçilebilir</span> "
   ]
  },
  {
   "cell_type": "code",
   "execution_count": null,
   "id": "d28a631a",
   "metadata": {},
   "outputs": [],
   "source": [
    "# Adım 4: Sonuç gösterme kısmı\n",
    "if similarity_measure == \"jaccard\":\n",
    "    # Jaccard benzerliğini hesaplayalım\n",
    "    similarity_matrix = cosine_similarity(vectorized_docs)\n",
    "    similarity_score = similarity_matrix[0, 1]\n",
    "    print(\"Jaccard Benzerlik Skoru:\", similarity_score)\n",
    "elif similarity_measure == \"cosine\":\n",
    "    # Cosine benzerliğini hesaplayalım\n",
    "    similarity_matrix = cosine_similarity(vectorized_docs)\n",
    "    similarity_score = similarity_matrix[0, 1]\n",
    "    print(\"Cosine Benzerlik Skoru:\", similarity_score)\n",
    "else:\n",
    "    print(\"Geçersiz benzerlik ölçütü seçildi.\")"
   ]
  }
 ],
 "metadata": {
  "kernelspec": {
   "display_name": "Python 3 (ipykernel)",
   "language": "python",
   "name": "python3"
  },
  "language_info": {
   "codemirror_mode": {
    "name": "ipython",
    "version": 3
   },
   "file_extension": ".py",
   "mimetype": "text/x-python",
   "name": "python",
   "nbconvert_exporter": "python",
   "pygments_lexer": "ipython3",
   "version": "3.10.9"
  }
 },
 "nbformat": 4,
 "nbformat_minor": 5
}
